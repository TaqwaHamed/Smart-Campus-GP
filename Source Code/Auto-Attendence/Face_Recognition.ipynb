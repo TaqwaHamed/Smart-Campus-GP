{
  "cells": [
    {
      "cell_type": "code",
      "execution_count": null,
      "metadata": {
        "colab": {
          "base_uri": "https://localhost:8080/"
        },
        "id": "2B0_OFuJ_UAM",
        "outputId": "14075f70-e34d-41de-d63a-ea17856452a7"
      },
      "outputs": [
        {
          "name": "stdout",
          "output_type": "stream",
          "text": [
            "Looking in indexes: https://pypi.org/simple, https://us-python.pkg.dev/colab-wheels/public/simple/\n",
            "Collecting mtcnn\n",
            "  Downloading mtcnn-0.1.1-py3-none-any.whl (2.3 MB)\n",
            "\u001b[K     |████████████████████████████████| 2.3 MB 31.1 MB/s \n",
            "\u001b[?25hRequirement already satisfied: keras>=2.0.0 in /usr/local/lib/python3.7/dist-packages (from mtcnn) (2.8.0)\n",
            "Requirement already satisfied: opencv-python>=4.1.0 in /usr/local/lib/python3.7/dist-packages (from mtcnn) (4.1.2.30)\n",
            "Requirement already satisfied: numpy>=1.14.5 in /usr/local/lib/python3.7/dist-packages (from opencv-python>=4.1.0->mtcnn) (1.21.6)\n",
            "Installing collected packages: mtcnn\n",
            "Successfully installed mtcnn-0.1.1\n"
          ]
        }
      ],
      "source": [
        "pip install mtcnn"
      ]
    },
    {
      "cell_type": "code",
      "execution_count": null,
      "metadata": {
        "colab": {
          "base_uri": "https://localhost:8080/"
        },
        "id": "hlYl5NLD_Rvf",
        "outputId": "accd839c-7f3a-4636-f2b8-b109019b5d37"
      },
      "outputs": [
        {
          "name": "stdout",
          "output_type": "stream",
          "text": [
            "WARNING:tensorflow:No training configuration found in the save file, so the model was *not* compiled. Compile it manually.\n",
            "[<KerasTensor: shape=(None, 160, 160, 3) dtype=float32 (created by layer 'input_1')>]\n",
            "[<KerasTensor: shape=(None, 128) dtype=float32 (created by layer 'Bottleneck_BatchNorm')>]\n"
          ]
        }
      ],
      "source": [
        "# example of loading the keras facenet model\n",
        "from keras.models import load_model\n",
        "# load the model\n",
        "model = load_model('/content/drive/MyDrive/Face_recognition/facenet_keras.h5')\n",
        "# summarize input and output shape\n",
        "print(model.inputs)\n",
        "print(model.outputs)"
      ]
    },
    {
      "cell_type": "code",
      "execution_count": null,
      "metadata": {
        "id": "ht8kxjfs_wKg"
      },
      "outputs": [],
      "source": [
        "from os import listdir\n",
        "from PIL import Image\n",
        "from numpy import asarray\n",
        "from matplotlib import pyplot\n",
        "from mtcnn.mtcnn import MTCNN\n",
        " \n",
        "# extract a single face from a given photograph\n",
        "def extract_face(filename, required_size=(160, 160)):\n",
        "\t# load image from file\n",
        "\timage = Image.open(filename)\n",
        "\t# convert to RGB, if needed\n",
        "\timage = image.convert('RGB')\n",
        "\t# convert to array\n",
        "\tpixels = asarray(image)\n",
        "\t# create the detector, using default weights\n",
        "\tdetector = MTCNN()\n",
        "\t# detect faces in the image\n",
        "\tresults = detector.detect_faces(pixels)\n",
        "\tif results:\n",
        "\t  # extract the bounding box from the first face\n",
        "\t  x1, y1, width, height = results[0]['box']\n",
        "\t  # bug fix\n",
        "\t  x1, y1 = abs(x1), abs(y1)\n",
        "\t  x2, y2 = x1 + width, y1 + height\n",
        "\t  # extract the face\n",
        "\t  face = pixels[y1:y2, x1:x2]\n",
        "\t  # resize pixels to the model size\n",
        "\t  image = Image.fromarray(face)\n",
        "\t  image = image.resize(required_size)\n",
        "\t  face_array = asarray(image)\n",
        "\t  return face_array\n",
        " "
      ]
    },
    {
      "cell_type": "code",
      "execution_count": null,
      "metadata": {
        "id": "_3Wa7eT5_64-"
      },
      "outputs": [],
      "source": [
        "# load images and extract faces for all images in a directory\n",
        "def load_faces(directory):\n",
        "\tfaces = list()\n",
        "\t# enumerate files\n",
        "\tfor filename in listdir(directory):\n",
        "\t\t# path\n",
        "\t\tpath = directory + filename\n",
        "\t\t# get face\n",
        "\t\tface = extract_face(path)\n",
        "\t\t# store\n",
        "\t\tfaces.append(face)\n",
        "\treturn faces"
      ]
    },
    {
      "cell_type": "code",
      "execution_count": null,
      "metadata": {
        "id": "YtnGTk11Allo"
      },
      "outputs": [],
      "source": [
        "def load_dataset(directory):\n",
        "\tX, y = list(), list()\n",
        "\t# enumerate folders, on per class\n",
        "\tfor subdir in listdir(directory):\n",
        "\t\t# path\n",
        "\t\tpath = directory + subdir + '/'\n",
        "\t\t# skip any files that might be in the dir\n",
        "\t\tif not os.path.isdir(path):\n",
        "\t\t\tcontinue\n",
        "\t\t# load all faces in the subdirectory\n",
        "\t\tfaces = load_faces(path)\n",
        "\t\t# create labels\n",
        "\t\tlabels = [subdir for _ in range(len(faces))]\n",
        "\t\t# summarize progress\n",
        "\t\tprint('>loaded %d examples for class: %s' % (len(faces), subdir))\n",
        "\t\t# store\n",
        "\t\tX.extend(faces)\n",
        "\t\ty.extend(labels)\n",
        "\treturn asarray(X), asarray(y)"
      ]
    },
    {
      "cell_type": "code",
      "execution_count": null,
      "metadata": {
        "id": "ry4zmRLqA5FG"
      },
      "outputs": [],
      "source": [
        "import os\n",
        "import shutil\n",
        "import glob\n",
        "def PrepareDataset(Dataset_path , classes):\n",
        "  for cl in classes:\n",
        "    images_path = os.path.join(Dataset_path, cl)\n",
        "    Images = glob.glob(images_path + '/*.*')\n",
        "\n",
        "    train_images ,validation_images, test_images = Images[:round(0.8*len(Images))] , Images[round(0.8*len(Images)):round(0.9*len(Images))],Images[round(0.9*len(Images)):]\n",
        "    \n",
        "    for train in train_images:\n",
        "      if not os.path.exists(os.path.join(Dataset_path , 'Train' , cl)):\n",
        "        os.makedirs(os.path.join(Dataset_path , 'Train', cl))\n",
        "      shutil.move(train , os.path.join(Dataset_path , 'Train' , cl))\n",
        "    \n",
        "    for test in test_images:\n",
        "      if not os.path.exists(os.path.join(Dataset_path , 'Test' , cl)):\n",
        "        os.makedirs(os.path.join(Dataset_path , 'Test' , cl))\n",
        "      shutil.move(test , os.path.join(Dataset_path , 'Test'  , cl))\n",
        "    \n",
        "    for val in validation_images:\n",
        "      if not os.path.exists(os.path.join(Dataset_path , 'Val' , cl)):\n",
        "        os.makedirs(os.path.join(Dataset_path , 'Val' , cl))\n",
        "      shutil.move(val , os.path.join(Dataset_path , 'Val'  , cl))"
      ]
    },
    {
      "cell_type": "code",
      "execution_count": null,
      "metadata": {
        "id": "1zLj28PSFnas"
      },
      "outputs": [],
      "source": [
        "PrepareDataset(Dataset_Path , Classes)"
      ]
    },
    {
      "cell_type": "code",
      "execution_count": null,
      "metadata": {
        "colab": {
          "base_uri": "https://localhost:8080/"
        },
        "id": "7TWyXYeUFRsg",
        "outputId": "63406836-4003-4933-cf31-7c3bd5979903"
      },
      "outputs": [
        {
          "data": {
            "text/plain": [
              "['Train', 'Test', 'Val']"
            ]
          },
          "execution_count": 8,
          "metadata": {},
          "output_type": "execute_result"
        }
      ],
      "source": [
        "Dataset_Path = \"/content/drive/MyDrive/Face_recognition/DataSet_Images\"\n",
        "Classes = listdir(Dataset_Path)\n",
        "Classes"
      ]
    },
    {
      "cell_type": "code",
      "execution_count": null,
      "metadata": {
        "colab": {
          "base_uri": "https://localhost:8080/",
          "height": 688
        },
        "id": "B8yrqSH_FyT0",
        "outputId": "8bb9b238-6fbe-4136-9850-447142481039"
      },
      "outputs": [
        {
          "name": "stdout",
          "output_type": "stream",
          "text": [
            "WARNING:tensorflow:5 out of the last 20 calls to <function Model.make_predict_function.<locals>.predict_function at 0x7f5fd0436a70> triggered tf.function retracing. Tracing is expensive and the excessive number of tracings could be due to (1) creating @tf.function repeatedly in a loop, (2) passing tensors with different shapes, (3) passing Python objects instead of tensors. For (1), please define your @tf.function outside of the loop. For (2), @tf.function has experimental_relax_shapes=True option that relaxes argument shapes that can avoid unnecessary retracing. For (3), please refer to https://www.tensorflow.org/guide/function#controlling_retracing and https://www.tensorflow.org/api_docs/python/tf/function for  more details.\n",
            "WARNING:tensorflow:6 out of the last 21 calls to <function Model.make_predict_function.<locals>.predict_function at 0x7f5fd0436a70> triggered tf.function retracing. Tracing is expensive and the excessive number of tracings could be due to (1) creating @tf.function repeatedly in a loop, (2) passing tensors with different shapes, (3) passing Python objects instead of tensors. For (1), please define your @tf.function outside of the loop. For (2), @tf.function has experimental_relax_shapes=True option that relaxes argument shapes that can avoid unnecessary retracing. For (3), please refer to https://www.tensorflow.org/guide/function#controlling_retracing and https://www.tensorflow.org/api_docs/python/tf/function for  more details.\n",
            ">loaded 101 examples for class: Ibrahim Saber\n",
            ">loaded 84 examples for class: Ahmed Mahmoud\n",
            ">loaded 90 examples for class: Ahmed nasser ahmed\n",
            ">loaded 80 examples for class: Khloud Khaled\n",
            ">loaded 106 examples for class: Radwa Refat\n",
            ">loaded 131 examples for class: Taqwa Hamed\n",
            ">loaded 85 examples for class: Yasmeen Mohamed\n",
            "(677,) (677,)\n"
          ]
        },
        {
          "name": "stderr",
          "output_type": "stream",
          "text": [
            "/usr/local/lib/python3.7/dist-packages/ipykernel_launcher.py:19: VisibleDeprecationWarning: Creating an ndarray from ragged nested sequences (which is a list-or-tuple of lists-or-tuples-or ndarrays with different lengths or shapes) is deprecated. If you meant to do this, you must specify 'dtype=object' when creating the ndarray.\n"
          ]
        },
        {
          "name": "stdout",
          "output_type": "stream",
          "text": [
            ">loaded 12 examples for class: Ibrahim Saber\n",
            ">loaded 10 examples for class: Ahmed Mahmoud\n",
            ">loaded 12 examples for class: Ahmed nasser ahmed\n",
            ">loaded 10 examples for class: Khloud Khaled\n",
            ">loaded 14 examples for class: Radwa Refat\n",
            ">loaded 17 examples for class: Taqwa Hamed\n",
            ">loaded 10 examples for class: Yasmeen Mohamed\n",
            "(85,) (85,)\n",
            ">loaded 13 examples for class: Ibrahim Saber\n",
            ">loaded 11 examples for class: Ahmed Mahmoud\n",
            ">loaded 11 examples for class: Ahmed nasser ahmed\n",
            ">loaded 10 examples for class: Khloud Khaled\n",
            ">loaded 13 examples for class: Radwa Refat\n",
            ">loaded 16 examples for class: Taqwa Hamed\n",
            ">loaded 11 examples for class: Yasmeen Mohamed\n",
            "(85,) (85,)\n"
          ]
        },
        {
          "ename": "NameError",
          "evalue": "ignored",
          "output_type": "error",
          "traceback": [
            "\u001b[0;31m---------------------------------------------------------------------------\u001b[0m",
            "\u001b[0;31mNameError\u001b[0m                                 Traceback (most recent call last)",
            "\u001b[0;32m<ipython-input-8-57da84abe909>\u001b[0m in \u001b[0;36m<module>\u001b[0;34m()\u001b[0m\n\u001b[1;32m      9\u001b[0m \u001b[0mprint\u001b[0m\u001b[0;34m(\u001b[0m\u001b[0mtestX\u001b[0m\u001b[0;34m.\u001b[0m\u001b[0mshape\u001b[0m\u001b[0;34m,\u001b[0m \u001b[0mtesty\u001b[0m\u001b[0;34m.\u001b[0m\u001b[0mshape\u001b[0m\u001b[0;34m)\u001b[0m\u001b[0;34m\u001b[0m\u001b[0;34m\u001b[0m\u001b[0m\n\u001b[1;32m     10\u001b[0m \u001b[0;31m# save arrays to one file in compressed format\u001b[0m\u001b[0;34m\u001b[0m\u001b[0;34m\u001b[0m\u001b[0;34m\u001b[0m\u001b[0m\n\u001b[0;32m---> 11\u001b[0;31m \u001b[0msavez_compressed\u001b[0m\u001b[0;34m(\u001b[0m\u001b[0;34m'/content/drive/MyDrive/Face_recognition/Dataset.npz'\u001b[0m\u001b[0;34m,\u001b[0m \u001b[0mtrainX\u001b[0m\u001b[0;34m,\u001b[0m \u001b[0mtrainy\u001b[0m\u001b[0;34m,\u001b[0m\u001b[0mvalX\u001b[0m \u001b[0;34m,\u001b[0m\u001b[0mvaly\u001b[0m\u001b[0;34m,\u001b[0m \u001b[0mtestX\u001b[0m\u001b[0;34m,\u001b[0m \u001b[0mtesty\u001b[0m\u001b[0;34m)\u001b[0m\u001b[0;34m\u001b[0m\u001b[0;34m\u001b[0m\u001b[0m\n\u001b[0m",
            "\u001b[0;31mNameError\u001b[0m: name 'savez_compressed' is not defined"
          ]
        }
      ],
      "source": [
        "# load train dataset\n",
        "trainX, trainy = load_dataset('/content/drive/MyDrive/Face_recognition/DataSet_Images/Train/')\n",
        "print(trainX.shape, trainy.shape)\n",
        "# load validation dataset\n",
        "valX, valy = load_dataset('/content/drive/MyDrive/Face_recognition/DataSet_Images/Val/')\n",
        "print(valX.shape, valy.shape)\n",
        "# load test dataset\n",
        "testX, testy = load_dataset('/content/drive/MyDrive/Face_recognition/DataSet_Images/Test/')\n",
        "print(testX.shape, testy.shape)\n",
        "# save arrays to one file in compressed format"
      ]
    },
    {
      "cell_type": "code",
      "execution_count": null,
      "metadata": {
        "id": "g3rkAvD8vIe3"
      },
      "outputs": [],
      "source": [
        "from numpy import savez_compressed"
      ]
    },
    {
      "cell_type": "code",
      "execution_count": null,
      "metadata": {
        "id": "9JCqeRrsskjE"
      },
      "outputs": [],
      "source": [
        "savez_compressed('/content/drive/MyDrive/Face_recognition/Dataset.npz', trainX, trainy,valX ,valy, testX, testy)"
      ]
    },
    {
      "cell_type": "code",
      "execution_count": null,
      "metadata": {
        "id": "xjgdUGJEHiFv"
      },
      "outputs": [],
      "source": [
        "# calculate a face embedding for each face in the dataset using facenet\n",
        "from numpy import load\n",
        "from numpy import expand_dims\n",
        "from numpy import asarray\n",
        "from numpy import savez_compressed\n",
        "from keras.models import load_model\n",
        "import numpy as np\n",
        "# get the face embedding for one face\n",
        "def get_embedding(model, face_pixels):\n",
        "\t# scale pixel values\n",
        "\tface_pixels = np.float32(face_pixels)\n",
        "\t# standardize pixel values across channels (global)\n",
        "\tmean, std = face_pixels.mean(), face_pixels.std()\n",
        "\tface_pixels = (face_pixels - mean) / std\n",
        "\t# transform face into one sample\n",
        "\tsamples = expand_dims(face_pixels, axis=0)\n",
        "\t# make prediction to get embedding\n",
        "\tyhat = model.predict(samples)\n",
        "\treturn yhat[0]\n",
        " "
      ]
    },
    {
      "cell_type": "code",
      "execution_count": null,
      "metadata": {
        "colab": {
          "base_uri": "https://localhost:8080/"
        },
        "id": "qylkLCIk1s83",
        "outputId": "852ef787-804f-43c8-a5f1-de65d51f2886"
      },
      "outputs": [
        {
          "name": "stdout",
          "output_type": "stream",
          "text": [
            "Loaded:  (613,) (613,) (77,) (77,) (77,) (77,)\n",
            "WARNING:tensorflow:No training configuration found in the save file, so the model was *not* compiled. Compile it manually.\n",
            "Loaded Model\n"
          ]
        }
      ],
      "source": [
        "# load the face dataset\n",
        "data = load('/content/drive/MyDrive/Face_recognition/Dataset.npz' , allow_pickle=True)\n",
        "trainX, trainy, valX, valy, testX, testy = data['arr_0'], data['arr_1'], data['arr_2'], data['arr_3'] ,  data['arr_4'] , data['arr_5']\n",
        "print('Loaded: ', trainX.shape, trainy.shape,valX.shape, valy.shape, testX.shape, testy.shape)\n",
        "# load the facenet \n",
        "model = load_model('/content/drive/MyDrive/Face_recognition/facenet_keras.h5')\n",
        "# model = load_model('facenet_keras.h5')\n",
        "print('Loaded Model')"
      ]
    },
    {
      "cell_type": "code",
      "execution_count": null,
      "metadata": {
        "colab": {
          "base_uri": "https://localhost:8080/"
        },
        "id": "Zd68-wQL6pqi",
        "outputId": "62920132-26a1-45cb-a5e3-426929a160da"
      },
      "outputs": [
        {
          "name": "stdout",
          "output_type": "stream",
          "text": [
            "(613, 128)\n",
            "(77, 128)\n",
            "(77, 128)\n"
          ]
        }
      ],
      "source": [
        "# convert each face in the train set to an embedding\n",
        "newTrainX = list()\n",
        "for face_pixels in trainX:\n",
        "\tembedding = get_embedding(model, face_pixels)\n",
        "\tnewTrainX.append(embedding)\n",
        "newTrainX = asarray(newTrainX)\n",
        "print(newTrainX.shape)\n",
        "# convert each face in the test set to an embedding\n",
        "newTestX = list()\n",
        "for face_pixels in testX:\n",
        "\tembedding = get_embedding(model, face_pixels)\n",
        "\tnewTestX.append(embedding)\n",
        "newTestX = asarray(newTestX)\n",
        "print(newTestX.shape)\n",
        "# convert each face in the test set to an embedding\n",
        "newValX = list()\n",
        "for face_pixels in valX:\n",
        "\tembedding = get_embedding(model, face_pixels)\n",
        "\tnewValX.append(embedding)\n",
        "newValX = asarray(newValX)\n",
        "print(newValX.shape)\n",
        "# save arrays to one file in compressed format\n",
        "savez_compressed('/content/drive/MyDrive/Face_recognition/Dataset-faces-embeddings.npz', newTrainX, trainy,newValX, valy, newTestX, testy)"
      ]
    },
    {
      "cell_type": "code",
      "execution_count": null,
      "metadata": {
        "colab": {
          "base_uri": "https://localhost:8080/"
        },
        "id": "HAKK6SGklBPm",
        "outputId": "613278f0-4ea8-4f40-c692-a3b13aff0dbc"
      },
      "outputs": [
        {
          "name": "stdout",
          "output_type": "stream",
          "text": [
            "Dataset: train=613, val=77, test=77\n",
            "[LibSVM]Accuracy: train=98.206,val=92.208, test=92.208\n"
          ]
        }
      ],
      "source": [
        "# develop a classifier for the Faces Dataset\n",
        "from numpy import load\n",
        "from sklearn.metrics import accuracy_score\n",
        "from sklearn.preprocessing import LabelEncoder\n",
        "from sklearn.preprocessing import Normalizer\n",
        "from sklearn.svm import SVC\n",
        "import pickle\n",
        "\n",
        "# load dataset\n",
        "data = load('/content/drive/MyDrive/Face_recognition/Dataset-faces-embeddings.npz', allow_pickle=True)\n",
        "trainX, trainy, valX, valy, testX, testy = data['arr_0'], data['arr_1'], data['arr_2'], data['arr_3'] ,  data['arr_4'] , data['arr_5']\n",
        "print('Dataset: train=%d, val=%d, test=%d' % (trainX.shape[0],valX.shape[0],testX.shape[0]))\n",
        "# normalize input vectors\n",
        "in_encoder = Normalizer(norm='l2')\n",
        "trainX = in_encoder.transform(trainX)\n",
        "testX = in_encoder.transform(testX)\n",
        "valX = in_encoder.transform(valX)\n",
        "# label encode targets\n",
        "out_encoder = LabelEncoder()\n",
        "out_encoder.fit(trainy)\n",
        "trainy = out_encoder.transform(trainy)\n",
        "testy = out_encoder.transform(testy)\n",
        "valy = out_encoder.transform(valy)\n",
        "# fit model\n",
        "model = SVC(kernel='linear', probability=True , verbose=1, max_iter=1000)\n",
        "model.fit(trainX, trainy)\n",
        "# predict\n",
        "yhat_train = model.predict(trainX)\n",
        "yhat_test = model.predict(testX)\n",
        "yhat_val = model.predict(valX)\n",
        "# score\n",
        "score_train = accuracy_score(trainy, yhat_train)\n",
        "score_test = accuracy_score(testy, yhat_test)\n",
        "score_val = accuracy_score(testy, yhat_test)\n",
        "# summarize\n",
        "print('Accuracy: train=%.3f,val=%.3f, test=%.3f' % (score_train*100,score_val*100, score_test*100))\n",
        "\n",
        "# save the model to disk\n",
        "filename = '/content/drive/MyDrive/Face_recognition/finalized_model.sav'\n",
        "pickle.dump(model, open(filename, 'wb'))"
      ]
    },
    {
      "cell_type": "code",
      "execution_count": null,
      "metadata": {
        "colab": {
          "base_uri": "https://localhost:8080/",
          "height": 316
        },
        "id": "cIRGhJ4l-M9E",
        "outputId": "2c9b2730-7e25-40cc-ce42-83c6c28230a0"
      },
      "outputs": [
        {
          "name": "stdout",
          "output_type": "stream",
          "text": [
            "Predicted: Ibrahim Saber (96.115)\n",
            "Expected: Ibrahim Saber\n"
          ]
        },
        {
          "data": {
            "image/png": "[encoded data removed]",
            "text/plain": [
              "<Figure size 432x288 with 1 Axes>"
            ]
          },
          "metadata": {},
          "output_type": "display_data"
        }
      ],
      "source": [
        "# develop a classifier for the  Faces Dataset\n",
        "from random import choice\n",
        "from numpy import load\n",
        "from numpy import expand_dims\n",
        "from sklearn.preprocessing import LabelEncoder\n",
        "from sklearn.preprocessing import Normalizer\n",
        "from sklearn.svm import SVC\n",
        "from matplotlib import pyplot\n",
        "# load faces\n",
        "data = load('/content/drive/MyDrive/Face_recognition/Dataset.npz' , allow_pickle=True)\n",
        "trainX, trainy, valX, valy, testX_faces, testy = data['arr_0'], data['arr_1'], data['arr_2'], data['arr_3'] ,  data['arr_4'] , data['arr_5']\n",
        "# load face embeddings\n",
        "data = load('/content/drive/MyDrive/Face_recognition/Dataset-faces-embeddings.npz', allow_pickle=True)\n",
        "trainX, trainy, valX, valy, testX, testy = data['arr_0'], data['arr_1'], data['arr_2'], data['arr_3'] ,  data['arr_4'] , data['arr_5']\n",
        "# normalize input vectors\n",
        "in_encoder = Normalizer(norm='l2')\n",
        "trainX = in_encoder.transform(trainX)\n",
        "testX = in_encoder.transform(testX)\n",
        "\n",
        "# label encode targets\n",
        "out_encoder = LabelEncoder()\n",
        "out_encoder.fit(trainy)\n",
        "trainy = out_encoder.transform(trainy)\n",
        "testy = out_encoder.transform(testy)\n",
        "\n",
        "# fit model\n",
        "model = SVC(kernel='linear', probability=True)\n",
        "model.fit(trainX, trainy)\n",
        "# test model on a random example from the test dataset\n",
        "selection = choice([i for i in range(testX.shape[0])])\n",
        "random_face_pixels = testX_faces[selection]\n",
        "random_face_emb = testX[selection]\n",
        "random_face_class = testy[selection]\n",
        "random_face_name = out_encoder.inverse_transform([random_face_class])\n",
        "# prediction for the face\n",
        "samples = expand_dims(random_face_emb, axis=0)\n",
        "yhat_class = model.predict(samples)\n",
        "yhat_prob = model.predict_proba(samples)\n",
        "# get name\n",
        "class_index = yhat_class[0]\n",
        "class_probability = yhat_prob[0,class_index] * 100\n",
        "predict_names = out_encoder.inverse_transform(yhat_class)\n",
        "print('Predicted: %s (%.3f)' % (predict_names[0], class_probability))\n",
        "print('Expected: %s' % random_face_name[0])\n",
        "# plot for fun\n",
        "pyplot.imshow(random_face_pixels)\n",
        "title = '%s (%.3f)' % (predict_names[0], class_probability)\n",
        "pyplot.title(title)\n",
        "pyplot.show()"
      ]
    },
    {
      "cell_type": "code",
      "execution_count": null,
      "metadata": {
        "colab": {
          "base_uri": "https://localhost:8080/"
        },
        "id": "P2qnZZ22129g",
        "outputId": "e7a935c0-6fbb-4416-8090-cba10d96623a"
      },
      "outputs": [
        {
          "data": {
            "text/plain": [
              "(77, 128)"
            ]
          },
          "execution_count": 17,
          "metadata": {},
          "output_type": "execute_result"
        }
      ],
      "source": [
        "testX.shape"
      ]
    },
    {
      "cell_type": "code",
      "execution_count": null,
      "metadata": {
        "id": "s6PIA-0Go0YZ"
      },
      "outputs": [],
      "source": [
        "data = load('/content/drive/MyDrive/Face_recognition/Dataset.npz' , allow_pickle=True)\n",
        "trainX, trainy, valX, valy, testX_faces, testy = data['arr_0'], data['arr_1'], data['arr_2'], data['arr_3'] ,  data['arr_4'] , data['arr_5']\n"
      ]
    },
    {
      "cell_type": "code",
      "execution_count": null,
      "metadata": {
        "colab": {
          "base_uri": "https://localhost:8080/"
        },
        "id": "29b4jXXNwkAu",
        "outputId": "61de1b4c-f994-4cc2-e7dc-463c74280e4a"
      },
      "outputs": [
        {
          "data": {
            "text/plain": [
              "(160, 160, 3)"
            ]
          },
          "execution_count": 30,
          "metadata": {},
          "output_type": "execute_result"
        }
      ],
      "source": [
        "trainX[0].shape"
      ]
    },
    {
      "cell_type": "code",
      "execution_count": null,
      "metadata": {
        "id": "GBIxTLMWdl_u"
      },
      "outputs": [],
      "source": [
        "import os\n",
        "import numpy as np\n",
        "import matplotlib.pyplot as plt\n",
        "%matplotlib inline\n",
        "import tensorflow as tf\n",
        "from tensorflow.keras.applications import MobileNetV2 , VGG16 \n",
        "from keras.models import Sequential , Model\n",
        "from tensorflow.keras.models import load_model\n",
        "from tensorflow.keras.layers import Input\n",
        "from keras.layers import Conv2D , MaxPooling2D , Dense , Flatten , Activation , Dropout\n",
        "from tensorflow.keras.optimizers import Adam , RMSprop, SGD\n",
        "from keras.preprocessing.image import ImageDataGenerator\n",
        "from keras.preprocessing.image import load_img , img_to_array \n",
        "from tensorflow.keras.utils import plot_model\n",
        "from keras.callbacks import ModelCheckpoint\n",
        "from sklearn.model_selection import train_test_split\n",
        "from sklearn.metrics import classification_report \n",
        "from IPython.display import Image\n",
        "import cv2\n",
        "import os\n",
        "from sklearn.preprocessing import LabelBinarizer"
      ]
    },
    {
      "cell_type": "code",
      "execution_count": null,
      "metadata": {
        "colab": {
          "base_uri": "https://localhost:8080/"
        },
        "id": "RUG3RDqsoi6K",
        "outputId": "dbcb8919-4c59-4e9d-edd1-fa9140c840d3"
      },
      "outputs": [
        {
          "data": {
            "text/plain": [
              "(613, 224, 224, 3)"
            ]
          },
          "execution_count": 18,
          "metadata": {},
          "output_type": "execute_result"
        }
      ],
      "source": [
        "train_Images = []\n",
        "for img in trainX:\n",
        "  resized = cv2.resize(img , (224,224) ,  interpolation = cv2.INTER_AREA)\n",
        "  train_Images.append(resized)\n",
        "\n",
        "train_Images = np.array(train_Images)\n",
        "train_Images = cv2.normalize(train_Images ,None, alpha=0, beta=1, norm_type=cv2.NORM_MINMAX, dtype=cv2.CV_32F) #Normalizing the image data\n",
        "train_Images.shape"
      ]
    },
    {
      "cell_type": "code",
      "execution_count": null,
      "metadata": {
        "id": "9XpHZb02wYWq"
      },
      "outputs": [],
      "source": [
        "data = load('/content/drive/MyDrive/Face_recognition/Dataset-faces-embeddings.npz' , allow_pickle=True)\n",
        "trainX, trainy, valX, valy, testX_faces, testy = data['arr_0'], data['arr_1'], data['arr_2'], data['arr_3'] ,  data['arr_4'] , data['arr_5']"
      ]
    },
    {
      "cell_type": "code",
      "execution_count": null,
      "metadata": {
        "colab": {
          "base_uri": "https://localhost:8080/"
        },
        "id": "8e-CXLfhqXWS",
        "outputId": "d7b00cf1-5505-4470-ac0a-6a35fd7cc29a"
      },
      "outputs": [
        {
          "data": {
            "text/plain": [
              "(613, 7)"
            ]
          },
          "execution_count": 14,
          "metadata": {},
          "output_type": "execute_result"
        }
      ],
      "source": [
        "LB = LabelBinarizer()\n",
        "Labels = LB.fit_transform(trainy) # creating an object\n",
        "Labels = np.array(Labels) # converting the labels into a batch\n",
        "Labels.shape"
      ]
    },
    {
      "cell_type": "code",
      "execution_count": null,
      "metadata": {
        "colab": {
          "base_uri": "https://localhost:8080/"
        },
        "id": "D7dO2V6ZrK3k",
        "outputId": "612f2b95-ef1d-4fd7-f2fa-8b8b661948ab"
      },
      "outputs": [
        {
          "data": {
            "text/plain": [
              "(77, 224, 224, 3)"
            ]
          },
          "execution_count": 20,
          "metadata": {},
          "output_type": "execute_result"
        }
      ],
      "source": [
        "val_Images = []\n",
        "for img in valX:\n",
        "  resized = cv2.resize(img , (224,224) ,  interpolation = cv2.INTER_AREA)\n",
        "  val_Images.append(resized)\n",
        "val_Images = np.array(val_Images)\n",
        "val_Images = cv2.normalize(val_Images ,None, alpha=0, beta=1, norm_type=cv2.NORM_MINMAX, dtype=cv2.CV_32F) #Normalizing the image data\n",
        "val_Images.shape"
      ]
    },
    {
      "cell_type": "code",
      "execution_count": null,
      "metadata": {
        "colab": {
          "base_uri": "https://localhost:8080/"
        },
        "id": "Llo_5rMvrK3l",
        "outputId": "31733721-500b-4268-8416-207098f16c17"
      },
      "outputs": [
        {
          "data": {
            "text/plain": [
              "(77, 7)"
            ]
          },
          "execution_count": 15,
          "metadata": {},
          "output_type": "execute_result"
        }
      ],
      "source": [
        "val_Labels = LB.fit_transform(valy) # creating an object\n",
        "val_Labels = np.array(val_Labels) # converting the labels into a batch\n",
        "val_Labels.shape"
      ]
    },
    {
      "cell_type": "code",
      "execution_count": null,
      "metadata": {
        "colab": {
          "base_uri": "https://localhost:8080/"
        },
        "id": "ULtF8Sa_xpOJ",
        "outputId": "9ac63e3c-abf9-4731-dabf-ef95184710ca"
      },
      "outputs": [
        {
          "data": {
            "text/plain": [
              "array([[ 0.44866467, -0.239526  , -0.7831485 , ...,  0.6522707 ,\n",
              "         0.9603629 ,  0.16758327],\n",
              "       [ 0.44084105, -0.06667213, -0.7962409 , ...,  0.7275478 ,\n",
              "         0.86443156,  0.06629559],\n",
              "       [ 0.47286752, -0.7082337 , -0.7624354 , ...,  1.0665509 ,\n",
              "         1.221362  , -0.17545006],\n",
              "       ...,\n",
              "       [-0.1370826 ,  0.01524591,  0.89489144, ...,  1.883133  ,\n",
              "         1.0477874 ,  1.6479204 ],\n",
              "       [ 0.47633246,  0.97883797,  0.14272799, ...,  2.0103202 ,\n",
              "         0.61040723,  0.90387625],\n",
              "       [ 0.19769898,  1.3025551 , -0.2123025 , ...,  2.6571672 ,\n",
              "         1.9450299 ,  0.82099986]], dtype=float32)"
            ]
          },
          "execution_count": 17,
          "metadata": {},
          "output_type": "execute_result"
        }
      ],
      "source": [
        "trainX"
      ]
    },
    {
      "cell_type": "code",
      "execution_count": null,
      "metadata": {
        "colab": {
          "base_uri": "https://localhost:8080/",
          "height": 36
        },
        "id": "jv_N-lZmwceP",
        "outputId": "3b18ba09-176d-40df-f467-1232a59e32e2"
      },
      "outputs": [
        {
          "data": {
            "application/vnd.google.colaboratory.intrinsic+json": {
              "type": "string"
            },
            "text/plain": [
              "'Ibrahim Saber'"
            ]
          },
          "execution_count": 18,
          "metadata": {},
          "output_type": "execute_result"
        }
      ],
      "source": [
        "trainy[0]"
      ]
    },
    {
      "cell_type": "code",
      "execution_count": null,
      "metadata": {
        "colab": {
          "base_uri": "https://localhost:8080/"
        },
        "id": "c3r03mWjxF2U",
        "outputId": "600acb18-8ae9-4834-f6f5-1c5daf378e5f"
      },
      "outputs": [
        {
          "data": {
            "text/plain": [
              "(77, 7)"
            ]
          },
          "execution_count": 16,
          "metadata": {},
          "output_type": "execute_result"
        }
      ],
      "source": [
        "LB = LabelBinarizer()\n",
        "testLabels = LB.fit_transform(testy) # creating an object\n",
        "testLabels = np.array(testLabels) # converting the labels into a batch\n",
        "testLabels.shape"
      ]
    },
    {
      "cell_type": "code",
      "execution_count": null,
      "metadata": {
        "id": "tlGyVxiuqzYf"
      },
      "outputs": [],
      "source": [
        "cnn_model= Sequential([\n",
        "    Flatten(input_shape = (128,)),\n",
        "    Dense(2048, activation='relu'),\n",
        "    Dropout(0.5),\n",
        "    Dense(1024, activation='relu'),\n",
        "    Dropout(0.5),\n",
        "    Dense(512, activation='relu'),\n",
        "    Dropout(0.5),\n",
        "    #7 is the number of outputs\n",
        "    Dense(7, activation='softmax')  \n",
        "])\n",
        "\n",
        "cnn_model.compile(\n",
        "    loss=tf.keras.losses.CategoricalCrossentropy(),#'categorical_crossentropy',\n",
        "    optimizer=Adam(learning_rate=0.0001),\n",
        "    metrics=['accuracy']\n",
        ")"
      ]
    },
    {
      "cell_type": "code",
      "execution_count": null,
      "metadata": {
        "id": "IGinxw0SrAY0"
      },
      "outputs": [],
      "source": [
        "DataAugmentaion = ImageDataGenerator(\n",
        "                                  rotation_range=25,\n",
        "                                  zoom_range=0.35,\n",
        "                                  horizontal_flip=True,\n",
        "                                  shear_range = 0.2\n",
        "                                  )"
      ]
    },
    {
      "cell_type": "code",
      "execution_count": null,
      "metadata": {
        "colab": {
          "base_uri": "https://localhost:8080/"
        },
        "id": "yrMRNPcJrDYt",
        "outputId": "e77178f0-5959-470f-c10f-0ebdb0592d8b"
      },
      "outputs": [
        {
          "name": "stdout",
          "output_type": "stream",
          "text": [
            "Epoch 1/50\n",
            "613/613 [==============================] - 5s 3ms/step - loss: 1.0539 - accuracy: 0.6966 - val_loss: 0.0860 - val_accuracy: 0.9870\n",
            "Epoch 2/50\n",
            "613/613 [==============================] - 2s 3ms/step - loss: 0.1133 - accuracy: 0.9706 - val_loss: 0.1433 - val_accuracy: 0.9870\n",
            "Epoch 3/50\n",
            "613/613 [==============================] - 2s 3ms/step - loss: 0.0574 - accuracy: 0.9804 - val_loss: 0.1673 - val_accuracy: 0.9870\n",
            "Epoch 4/50\n",
            "613/613 [==============================] - 2s 3ms/step - loss: 0.0582 - accuracy: 0.9804 - val_loss: 0.2073 - val_accuracy: 0.9870\n",
            "Epoch 5/50\n",
            "613/613 [==============================] - 2s 3ms/step - loss: 0.0372 - accuracy: 0.9902 - val_loss: 0.3625 - val_accuracy: 0.9870\n",
            "Epoch 6/50\n",
            "613/613 [==============================] - 2s 3ms/step - loss: 0.0351 - accuracy: 0.9821 - val_loss: 3.9821e-05 - val_accuracy: 1.0000\n",
            "Epoch 7/50\n",
            "613/613 [==============================] - 2s 3ms/step - loss: 0.0250 - accuracy: 0.9918 - val_loss: 0.0578 - val_accuracy: 0.9870\n",
            "Epoch 8/50\n",
            "613/613 [==============================] - 2s 3ms/step - loss: 0.0185 - accuracy: 0.9951 - val_loss: 0.0000e+00 - val_accuracy: 1.0000\n",
            "Epoch 9/50\n",
            "613/613 [==============================] - 2s 3ms/step - loss: 0.0206 - accuracy: 0.9918 - val_loss: 0.0610 - val_accuracy: 0.9870\n",
            "Epoch 10/50\n",
            "613/613 [==============================] - 2s 3ms/step - loss: 0.0130 - accuracy: 0.9951 - val_loss: 0.0000e+00 - val_accuracy: 1.0000\n",
            "Epoch 11/50\n",
            "613/613 [==============================] - 2s 3ms/step - loss: 0.0153 - accuracy: 0.9918 - val_loss: 1.2850e-07 - val_accuracy: 1.0000\n",
            "Epoch 12/50\n",
            "613/613 [==============================] - 2s 3ms/step - loss: 0.0086 - accuracy: 0.9967 - val_loss: 2.8344e-06 - val_accuracy: 1.0000\n",
            "Epoch 13/50\n",
            "613/613 [==============================] - 2s 3ms/step - loss: 0.0165 - accuracy: 0.9951 - val_loss: 0.0000e+00 - val_accuracy: 1.0000\n",
            "Epoch 14/50\n",
            "613/613 [==============================] - 2s 3ms/step - loss: 0.0038 - accuracy: 1.0000 - val_loss: 0.0000e+00 - val_accuracy: 1.0000\n",
            "Epoch 15/50\n",
            "613/613 [==============================] - 2s 3ms/step - loss: 0.0057 - accuracy: 0.9967 - val_loss: 0.0000e+00 - val_accuracy: 1.0000\n",
            "Epoch 16/50\n",
            "613/613 [==============================] - 2s 3ms/step - loss: 0.0065 - accuracy: 0.9984 - val_loss: 0.2527 - val_accuracy: 0.9870\n",
            "Epoch 17/50\n",
            "613/613 [==============================] - 2s 3ms/step - loss: 0.0165 - accuracy: 0.9951 - val_loss: 3.7476e-06 - val_accuracy: 1.0000\n",
            "Epoch 18/50\n",
            "613/613 [==============================] - 2s 3ms/step - loss: 0.0033 - accuracy: 0.9984 - val_loss: 0.0000e+00 - val_accuracy: 1.0000\n",
            "Epoch 19/50\n",
            "613/613 [==============================] - 2s 3ms/step - loss: 0.0076 - accuracy: 0.9967 - val_loss: 0.0000e+00 - val_accuracy: 1.0000\n",
            "Epoch 20/50\n",
            "613/613 [==============================] - 2s 3ms/step - loss: 0.0017 - accuracy: 1.0000 - val_loss: 0.0000e+00 - val_accuracy: 1.0000\n",
            "Epoch 21/50\n",
            "613/613 [==============================] - 2s 3ms/step - loss: 0.0014 - accuracy: 1.0000 - val_loss: 0.0000e+00 - val_accuracy: 1.0000\n",
            "Epoch 22/50\n",
            "613/613 [==============================] - 2s 3ms/step - loss: 3.9473e-04 - accuracy: 1.0000 - val_loss: 0.0000e+00 - val_accuracy: 1.0000\n",
            "Epoch 23/50\n",
            "613/613 [==============================] - 2s 3ms/step - loss: 0.0023 - accuracy: 0.9984 - val_loss: 0.0000e+00 - val_accuracy: 1.0000\n",
            "Epoch 24/50\n",
            "613/613 [==============================] - 2s 3ms/step - loss: 3.4612e-04 - accuracy: 1.0000 - val_loss: 0.0000e+00 - val_accuracy: 1.0000\n",
            "Epoch 25/50\n",
            "613/613 [==============================] - 2s 3ms/step - loss: 9.1290e-05 - accuracy: 1.0000 - val_loss: 0.0000e+00 - val_accuracy: 1.0000\n",
            "Epoch 26/50\n",
            "613/613 [==============================] - 2s 3ms/step - loss: 2.8628e-04 - accuracy: 1.0000 - val_loss: 0.0000e+00 - val_accuracy: 1.0000\n",
            "Epoch 27/50\n",
            "613/613 [==============================] - 2s 3ms/step - loss: 2.2476e-04 - accuracy: 1.0000 - val_loss: 0.0000e+00 - val_accuracy: 1.0000\n",
            "Epoch 28/50\n",
            "613/613 [==============================] - 3s 4ms/step - loss: 2.6198e-04 - accuracy: 1.0000 - val_loss: 0.0000e+00 - val_accuracy: 1.0000\n",
            "Epoch 29/50\n",
            "613/613 [==============================] - 2s 3ms/step - loss: 0.0108 - accuracy: 0.9967 - val_loss: 7.7409e-09 - val_accuracy: 1.0000\n",
            "Epoch 30/50\n",
            "613/613 [==============================] - 2s 3ms/step - loss: 2.1666e-04 - accuracy: 1.0000 - val_loss: 0.0000e+00 - val_accuracy: 1.0000\n",
            "Epoch 31/50\n",
            "613/613 [==============================] - 2s 3ms/step - loss: 1.1104e-04 - accuracy: 1.0000 - val_loss: 0.0000e+00 - val_accuracy: 1.0000\n",
            "Epoch 32/50\n",
            "613/613 [==============================] - 2s 3ms/step - loss: 1.6187e-04 - accuracy: 1.0000 - val_loss: 0.0000e+00 - val_accuracy: 1.0000\n",
            "Epoch 33/50\n",
            "613/613 [==============================] - 2s 3ms/step - loss: 0.0011 - accuracy: 1.0000 - val_loss: 0.0000e+00 - val_accuracy: 1.0000\n",
            "Epoch 34/50\n",
            "613/613 [==============================] - 2s 3ms/step - loss: 0.0010 - accuracy: 1.0000 - val_loss: 0.0000e+00 - val_accuracy: 1.0000\n",
            "Epoch 35/50\n",
            "613/613 [==============================] - 2s 3ms/step - loss: 4.5707e-05 - accuracy: 1.0000 - val_loss: 0.0000e+00 - val_accuracy: 1.0000\n",
            "Epoch 36/50\n",
            "613/613 [==============================] - 2s 3ms/step - loss: 4.3238e-04 - accuracy: 1.0000 - val_loss: 0.0000e+00 - val_accuracy: 1.0000\n",
            "Epoch 37/50\n",
            "613/613 [==============================] - 2s 3ms/step - loss: 0.0032 - accuracy: 0.9984 - val_loss: 0.0000e+00 - val_accuracy: 1.0000\n",
            "Epoch 38/50\n",
            "613/613 [==============================] - 2s 3ms/step - loss: 3.6678e-05 - accuracy: 1.0000 - val_loss: 0.0000e+00 - val_accuracy: 1.0000\n",
            "Epoch 39/50\n",
            "613/613 [==============================] - 2s 3ms/step - loss: 5.0128e-06 - accuracy: 1.0000 - val_loss: 0.0000e+00 - val_accuracy: 1.0000\n",
            "Epoch 40/50\n",
            "613/613 [==============================] - 2s 3ms/step - loss: 5.7865e-05 - accuracy: 1.0000 - val_loss: 0.0000e+00 - val_accuracy: 1.0000\n",
            "Epoch 41/50\n",
            "613/613 [==============================] - 2s 3ms/step - loss: 3.4388e-04 - accuracy: 1.0000 - val_loss: 0.0000e+00 - val_accuracy: 1.0000\n",
            "Epoch 42/50\n",
            "613/613 [==============================] - 2s 3ms/step - loss: 1.8041e-05 - accuracy: 1.0000 - val_loss: 0.0000e+00 - val_accuracy: 1.0000\n",
            "Epoch 43/50\n",
            "613/613 [==============================] - 2s 3ms/step - loss: 4.1093e-05 - accuracy: 1.0000 - val_loss: 0.0000e+00 - val_accuracy: 1.0000\n",
            "Epoch 44/50\n",
            "613/613 [==============================] - 2s 3ms/step - loss: 9.8787e-07 - accuracy: 1.0000 - val_loss: 0.0000e+00 - val_accuracy: 1.0000\n",
            "Epoch 45/50\n",
            "613/613 [==============================] - 2s 3ms/step - loss: 2.0302e-06 - accuracy: 1.0000 - val_loss: 0.0000e+00 - val_accuracy: 1.0000\n",
            "Epoch 46/50\n",
            "613/613 [==============================] - 2s 3ms/step - loss: 1.9379e-06 - accuracy: 1.0000 - val_loss: 0.0000e+00 - val_accuracy: 1.0000\n",
            "Epoch 47/50\n",
            "613/613 [==============================] - 2s 3ms/step - loss: 2.6117e-06 - accuracy: 1.0000 - val_loss: 0.0000e+00 - val_accuracy: 1.0000\n",
            "Epoch 48/50\n",
            "613/613 [==============================] - 2s 3ms/step - loss: 1.1337e-06 - accuracy: 1.0000 - val_loss: 0.0000e+00 - val_accuracy: 1.0000\n",
            "Epoch 49/50\n",
            "613/613 [==============================] - 2s 3ms/step - loss: 2.6332e-06 - accuracy: 1.0000 - val_loss: 0.0000e+00 - val_accuracy: 1.0000\n",
            "Epoch 50/50\n",
            "613/613 [==============================] - 2s 3ms/step - loss: 1.8985e-06 - accuracy: 1.0000 - val_loss: 0.0000e+00 - val_accuracy: 1.0000\n"
          ]
        }
      ],
      "source": [
        "history=cnn_model.fit(\n",
        "    trainX, Labels , batch_size=1,\n",
        "    epochs=50,\n",
        "    validation_data=( valX , val_Labels)\n",
        ")"
      ]
    },
    {
      "cell_type": "code",
      "execution_count": null,
      "metadata": {
        "colab": {
          "background_save": true
        },
        "id": "HftJH71grv5h"
      },
      "outputs": [],
      "source": [
        "cnn_model.save(\"/content/drive/MyDrive/Face_recognition/Classification.hdf5\")"
      ]
    },
    {
      "cell_type": "code",
      "execution_count": null,
      "metadata": {
        "colab": {
          "base_uri": "https://localhost:8080/",
          "height": 235
        },
        "id": "-UV3dQOsznUm",
        "outputId": "41ce2654-b1af-4b00-be82-154fd54dc017"
      },
      "outputs": [
        {
          "ename": "NameError",
          "evalue": "ignored",
          "output_type": "error",
          "traceback": [
            "\u001b[0;31m---------------------------------------------------------------------------\u001b[0m",
            "\u001b[0;31mNameError\u001b[0m                                 Traceback (most recent call last)",
            "\u001b[0;32m<ipython-input-17-a63bbd500114>\u001b[0m in \u001b[0;36m<module>\u001b[0;34m()\u001b[0m\n\u001b[1;32m     33\u001b[0m \u001b[0;31m# prediction for the face\u001b[0m\u001b[0;34m\u001b[0m\u001b[0;34m\u001b[0m\u001b[0;34m\u001b[0m\u001b[0m\n\u001b[1;32m     34\u001b[0m \u001b[0msamples\u001b[0m \u001b[0;34m=\u001b[0m \u001b[0mexpand_dims\u001b[0m\u001b[0;34m(\u001b[0m\u001b[0mrandom_face_emb\u001b[0m\u001b[0;34m,\u001b[0m \u001b[0maxis\u001b[0m\u001b[0;34m=\u001b[0m\u001b[0;36m0\u001b[0m\u001b[0;34m)\u001b[0m\u001b[0;34m\u001b[0m\u001b[0;34m\u001b[0m\u001b[0m\n\u001b[0;32m---> 35\u001b[0;31m \u001b[0myhat\u001b[0m \u001b[0;34m=\u001b[0m \u001b[0mcnn_model\u001b[0m\u001b[0;34m.\u001b[0m\u001b[0mpredict\u001b[0m\u001b[0;34m(\u001b[0m\u001b[0msamples\u001b[0m\u001b[0;34m)\u001b[0m\u001b[0;34m\u001b[0m\u001b[0;34m\u001b[0m\u001b[0m\n\u001b[0m\u001b[1;32m     36\u001b[0m \u001b[0;31m# get name\u001b[0m\u001b[0;34m\u001b[0m\u001b[0;34m\u001b[0m\u001b[0;34m\u001b[0m\u001b[0m\n\u001b[1;32m     37\u001b[0m \u001b[0mclass_index\u001b[0m \u001b[0;34m=\u001b[0m \u001b[0mnp\u001b[0m\u001b[0;34m.\u001b[0m\u001b[0margmax\u001b[0m\u001b[0;34m(\u001b[0m\u001b[0myhat\u001b[0m\u001b[0;34m)\u001b[0m\u001b[0;34m\u001b[0m\u001b[0;34m\u001b[0m\u001b[0m\n",
            "\u001b[0;31mNameError\u001b[0m: name 'cnn_model' is not defined"
          ]
        }
      ],
      "source": [
        "# develop a classifier for the 5 Celebrity Faces Dataset\n",
        "from random import choice\n",
        "from numpy import load\n",
        "from numpy import expand_dims\n",
        "from sklearn.preprocessing import LabelEncoder\n",
        "from sklearn.preprocessing import Normalizer\n",
        "from sklearn.svm import SVC\n",
        "from matplotlib import pyplot\n",
        "# load faces\n",
        "data = load('/content/drive/MyDrive/Face_recognition/Dataset.npz' , allow_pickle=True)\n",
        "trainX, trainy, valX, valy, testX_faces, testy = data['arr_0'], data['arr_1'], data['arr_2'], data['arr_3'] ,  data['arr_4'] , data['arr_5']\n",
        "# load face embeddings\n",
        "data = load('/content/drive/MyDrive/Face_recognition/Dataset-faces-embeddings.npz', allow_pickle=True)\n",
        "trainX, trainy, valX, valy, testX, testy = data['arr_0'], data['arr_1'], data['arr_2'], data['arr_3'] ,  data['arr_4'] , data['arr_5']\n",
        "# normalize input vectors\n",
        "in_encoder = Normalizer(norm='l2')\n",
        "trainX = in_encoder.transform(trainX)\n",
        "testX = in_encoder.transform(testX)\n",
        "\n",
        "# label encode targets\n",
        "out_encoder = LabelEncoder()\n",
        "out_encoder.fit(trainy)\n",
        "trainy = out_encoder.transform(trainy)\n",
        "testy = out_encoder.transform(testy)\n",
        "\n",
        "\n",
        "# test model on a random example from the test dataset\n",
        "selection = choice([i for i in range(testX.shape[0])])\n",
        "random_face_pixels = testX_faces[selection]\n",
        "random_face_emb = testX[selection]\n",
        "random_face_class = testy[selection]\n",
        "random_face_name = out_encoder.inverse_transform([random_face_class])\n",
        "# prediction for the face\n",
        "samples = expand_dims(random_face_emb, axis=0)\n",
        "yhat = cnn_model.predict(samples)\n",
        "# get name\n",
        "class_index = np.argmax(yhat)\n",
        "class_probability = yhat[0][np.argmax(yhat)] * 100\n",
        "predict_names = out_encoder.inverse_transform(np.array([class_index]))\n",
        "print('Predicted: %s (%.3f)' % (predict_names[0], class_probability))\n",
        "print('Expected: %s' % random_face_name[0])\n",
        "# plot for fun\n",
        "pyplot.imshow(random_face_pixels)\n",
        "title = '%s (%.3f)' % (predict_names[0], class_probability)\n",
        "pyplot.title(title)\n",
        "pyplot.show()"
      ]
    },
    {
      "cell_type": "code",
      "execution_count": null,
      "metadata": {
        "colab": {
          "base_uri": "https://localhost:8080/"
        },
        "id": "K2ggkTSE0ksR",
        "outputId": "ebb67d5b-2603-4ce4-b1bd-57819551f19f"
      },
      "outputs": [
        {
          "name": "stdout",
          "output_type": "stream",
          "text": [
            "3/3 [==============================] - 0s 6ms/step - loss: 0.2783 - accuracy: 0.9351\n"
          ]
        },
        {
          "data": {
            "text/plain": [
              "[0.2783127427101135, 0.9350649118423462]"
            ]
          },
          "execution_count": 30,
          "metadata": {},
          "output_type": "execute_result"
        }
      ],
      "source": [
        "cnn_model.evaluate(testX, testLabels)"
      ]
    },
    {
      "cell_type": "code",
      "execution_count": null,
      "metadata": {
        "id": "tIKug-FU0qhX"
      },
      "outputs": [],
      "source": [
        "# load faces\n",
        "data = load('/content/drive/MyDrive/Face_recognition/Dataset.npz' , allow_pickle=True)\n",
        "trainX, trainy, valX, valy, testX_faces, testy = data['arr_0'], data['arr_1'], data['arr_2'], data['arr_3'] ,  data['arr_4'] , data['arr_5']\n",
        "# load face embeddings\n",
        "data = load('/content/drive/MyDrive/Face_recognition/Dataset-faces-embeddings.npz', allow_pickle=True)\n",
        "trainX, trainy, valX, valy, testX, testy = data['arr_0'], data['arr_1'], data['arr_2'], data['arr_3'] ,  data['arr_4'] , data['arr_5']\n",
        "# normalize input vectors\n",
        "in_encoder = Normalizer(norm='l2')\n",
        "trainX = in_encoder.transform(trainX)\n",
        "testX = in_encoder.transform(testX)\n",
        "\n",
        "# label encode targets\n",
        "out_encoder = LabelEncoder()\n",
        "out_encoder.fit(trainy)\n",
        "trainy = out_encoder.transform(trainy)\n",
        "testy = out_encoder.transform(testy)\n",
        "\n",
        "yhat = cnn_model.predict(testX , batch_size = 32)\n"
      ]
    },
    {
      "cell_type": "code",
      "execution_count": null,
      "metadata": {
        "colab": {
          "base_uri": "https://localhost:8080/"
        },
        "id": "SKGWfTYO1o-a",
        "outputId": "238fd8d2-373d-464a-e9bd-4f121c27c065"
      },
      "outputs": [
        {
          "data": {
            "text/plain": [
              "array([[1.25816455e-02, 6.61370158e-03, 9.26011264e-01, 1.69769898e-02,\n",
              "        2.05368940e-02, 3.48818186e-03, 1.37913302e-02],\n",
              "       [1.00834798e-02, 6.60264539e-03, 9.36342716e-01, 1.63435359e-02,\n",
              "        1.44274188e-02, 3.18515906e-03, 1.30151007e-02],\n",
              "       [1.36745404e-02, 5.70210675e-03, 9.30208921e-01, 1.38359098e-02,\n",
              "        1.99963115e-02, 3.30555160e-03, 1.32767186e-02],\n",
              "       [1.44276880e-02, 4.88630030e-03, 9.21429217e-01, 2.01155636e-02,\n",
              "        1.75986681e-02, 3.70651856e-03, 1.78360511e-02],\n",
              "       [1.90133508e-02, 5.66225313e-03, 9.31302547e-01, 1.29473405e-02,\n",
              "        1.41076352e-02, 4.23464691e-03, 1.27321947e-02],\n",
              "       [2.39358693e-02, 5.43092331e-03, 9.27252054e-01, 1.24088312e-02,\n",
              "        1.49919419e-02, 4.64229053e-03, 1.13381334e-02],\n",
              "       [1.95390470e-02, 6.27311785e-03, 9.29704428e-01, 1.29777463e-02,\n",
              "        1.49104223e-02, 4.53364942e-03, 1.20615354e-02],\n",
              "       [9.35405772e-03, 6.23969687e-03, 9.38528776e-01, 1.68006606e-02,\n",
              "        1.32421246e-02, 2.96344724e-03, 1.28711378e-02],\n",
              "       [9.40212887e-03, 6.33457256e-03, 9.38705862e-01, 1.66320018e-02,\n",
              "        1.34463720e-02, 2.70833448e-03, 1.27706844e-02],\n",
              "       [1.04974350e-02, 6.13678480e-03, 9.39022601e-01, 1.63273867e-02,\n",
              "        1.28244990e-02, 2.76467833e-03, 1.24266408e-02],\n",
              "       [1.04512740e-02, 9.42169689e-03, 9.25723255e-01, 1.82321612e-02,\n",
              "        1.50433788e-02, 2.80616479e-03, 1.83220897e-02],\n",
              "       [1.24121765e-02, 6.39414182e-03, 9.38388646e-01, 1.29108811e-02,\n",
              "        1.43782338e-02, 3.39153409e-03, 1.21243261e-02],\n",
              "       [1.01525607e-02, 6.91952743e-03, 9.37225103e-01, 1.45502249e-02,\n",
              "        1.51144369e-02, 3.23020527e-03, 1.28080146e-02],\n",
              "       [9.50439036e-01, 2.60207499e-03, 8.06647912e-03, 6.15265639e-03,\n",
              "        1.94850378e-02, 1.15683917e-02, 1.68630714e-03],\n",
              "       [9.36983407e-01, 3.84532404e-03, 1.25051020e-02, 9.39288456e-03,\n",
              "        1.90178938e-02, 1.59472600e-02, 2.30819685e-03],\n",
              "       [9.10955966e-01, 4.22215695e-03, 1.44398110e-02, 1.05627244e-02,\n",
              "        3.57022211e-02, 2.10612379e-02, 3.05588939e-03],\n",
              "       [9.57380056e-01, 2.67407461e-03, 8.24723486e-03, 5.27018961e-03,\n",
              "        1.65976826e-02, 8.29102565e-03, 1.53985922e-03],\n",
              "       [9.34952497e-01, 2.73943879e-03, 1.03399828e-02, 7.81303458e-03,\n",
              "        2.84003131e-02, 1.33009637e-02, 2.45374185e-03],\n",
              "       [7.65060723e-01, 6.13455102e-02, 3.11170183e-02, 3.48781012e-02,\n",
              "        5.24191298e-02, 3.68377119e-02, 1.83417536e-02],\n",
              "       [1.86742414e-02, 9.20854509e-01, 1.09663829e-02, 1.42719634e-02,\n",
              "        1.35616232e-02, 5.23352018e-03, 1.64377727e-02],\n",
              "       [9.74267256e-03, 9.52519655e-01, 6.52270019e-03, 1.14819827e-02,\n",
              "        7.83630367e-03, 2.92038149e-03, 8.97633191e-03],\n",
              "       [9.63930972e-03, 9.48825598e-01, 7.07306899e-03, 1.25268567e-02,\n",
              "        8.38862639e-03, 3.49959871e-03, 1.00468099e-02],\n",
              "       [1.00462846e-02, 9.40296948e-01, 7.82712083e-03, 1.56003907e-02,\n",
              "        9.74472705e-03, 3.86286061e-03, 1.26217725e-02],\n",
              "       [1.79777127e-02, 9.19237375e-01, 1.10131782e-02, 1.97995882e-02,\n",
              "        1.18404459e-02, 4.62714629e-03, 1.55044906e-02],\n",
              "       [1.32975671e-02, 9.34668720e-01, 8.66975915e-03, 1.35741476e-02,\n",
              "        1.12408949e-02, 4.83357627e-03, 1.37152812e-02],\n",
              "       [1.88722312e-02, 9.14341748e-01, 1.14562577e-02, 1.73253193e-02,\n",
              "        1.38747040e-02, 6.36135926e-03, 1.77684203e-02],\n",
              "       [4.01059128e-02, 8.74690592e-01, 1.52950501e-02, 1.98895410e-02,\n",
              "        2.09547635e-02, 9.64994542e-03, 1.94142014e-02],\n",
              "       [1.16133196e-02, 9.30818915e-01, 9.72794741e-03, 1.82607826e-02,\n",
              "        1.17061399e-02, 4.00919421e-03, 1.38637191e-02],\n",
              "       [1.47956470e-02, 9.32806313e-01, 8.81754421e-03, 1.49343675e-02,\n",
              "        1.05791511e-02, 4.33880882e-03, 1.37281716e-02],\n",
              "       [1.43096326e-02, 9.36279476e-01, 8.69912189e-03, 1.37798181e-02,\n",
              "        1.01184938e-02, 4.18515457e-03, 1.26283448e-02],\n",
              "       [1.55378617e-02, 1.16133746e-02, 1.24679543e-02, 9.27277446e-01,\n",
              "        1.88639387e-02, 4.47357725e-03, 9.76590440e-03],\n",
              "       [1.21426219e-02, 4.94307512e-03, 8.19689501e-03, 9.47529852e-01,\n",
              "        1.65308397e-02, 3.69380414e-03, 6.96287723e-03],\n",
              "       [1.21613322e-02, 5.27108507e-03, 9.80034191e-03, 9.40271318e-01,\n",
              "        2.00232826e-02, 4.20651678e-03, 8.26603826e-03],\n",
              "       [1.32345036e-02, 1.11625139e-02, 9.77955665e-03, 9.37158406e-01,\n",
              "        1.53464228e-02, 4.04464547e-03, 9.27399378e-03],\n",
              "       [9.47045349e-03, 9.19346418e-03, 1.03704007e-02, 9.38123226e-01,\n",
              "        1.32422112e-02, 7.79753365e-03, 1.18026482e-02],\n",
              "       [7.23312097e-03, 3.57783656e-03, 4.83555486e-03, 9.68078554e-01,\n",
              "        8.20835587e-03, 3.06416419e-03, 5.00249211e-03],\n",
              "       [9.05609131e-03, 2.76954705e-03, 4.61673923e-03, 9.67037141e-01,\n",
              "        1.08331367e-02, 2.04814016e-03, 3.63924424e-03],\n",
              "       [1.36565967e-02, 3.11295385e-03, 6.84443070e-03, 9.55408812e-01,\n",
              "        1.31292315e-02, 3.44279571e-03, 4.40513948e-03],\n",
              "       [9.56717320e-03, 3.08998721e-03, 6.25521410e-03, 9.58395422e-01,\n",
              "        1.45507026e-02, 2.75648129e-03, 5.38504450e-03],\n",
              "       [8.29887111e-03, 5.25731966e-03, 6.42901752e-03, 9.61687505e-01,\n",
              "        8.97259824e-03, 2.43354728e-03, 6.92116516e-03],\n",
              "       [3.83103080e-02, 1.79643661e-03, 6.61471998e-03, 2.08186302e-02,\n",
              "        9.19456720e-01, 9.58295912e-03, 3.42023303e-03],\n",
              "       [4.09624688e-02, 6.95438066e-04, 2.74503813e-03, 5.97129669e-03,\n",
              "        9.05924380e-01, 4.18839417e-02, 1.81743398e-03],\n",
              "       [5.27823754e-02, 1.18795317e-03, 4.62358957e-03, 9.76474676e-03,\n",
              "        9.03554976e-01, 2.55149268e-02, 2.57140375e-03],\n",
              "       [3.00653372e-02, 9.71305708e-04, 3.40828230e-03, 7.98668060e-03,\n",
              "        9.20655429e-01, 3.47631499e-02, 2.14979472e-03],\n",
              "       [6.22120313e-02, 1.92280195e-03, 6.68699574e-03, 1.95766911e-02,\n",
              "        8.27367127e-01, 7.77449831e-02, 4.48938971e-03],\n",
              "       [2.14148462e-02, 9.08620656e-04, 5.38787246e-03, 1.16969664e-02,\n",
              "        9.48624730e-01, 6.74138591e-03, 5.22550289e-03],\n",
              "       [3.28488201e-02, 1.85387093e-03, 1.06727071e-02, 2.93283500e-02,\n",
              "        9.08876061e-01, 8.08387622e-03, 8.33642203e-03],\n",
              "       [5.07217571e-02, 1.81530148e-03, 6.50236337e-03, 1.54432096e-02,\n",
              "        8.95009279e-01, 2.61657275e-02, 4.34233248e-03],\n",
              "       [2.49040946e-02, 1.58720859e-03, 5.80539647e-03, 1.09257801e-02,\n",
              "        9.36219692e-01, 1.55951455e-02, 4.96263895e-03],\n",
              "       [4.93275225e-02, 2.02190503e-03, 8.65010545e-03, 3.12742069e-02,\n",
              "        8.92564237e-01, 1.19104451e-02, 4.25160164e-03],\n",
              "       [2.30607204e-02, 1.22623914e-03, 4.69906861e-03, 1.01725031e-02,\n",
              "        9.49890435e-01, 8.31269380e-03, 2.63838936e-03],\n",
              "       [1.82059798e-02, 1.39538618e-03, 3.47744743e-03, 9.02182516e-03,\n",
              "        9.56763446e-01, 8.70701857e-03, 2.42888043e-03],\n",
              "       [5.99597134e-02, 1.71841087e-03, 5.90802869e-03, 1.83313340e-02,\n",
              "        8.42770934e-01, 6.71622753e-02, 4.14925860e-03],\n",
              "       [1.70525499e-02, 2.17086426e-03, 1.39997678e-03, 4.94258665e-03,\n",
              "        9.36076790e-03, 9.62425888e-01, 2.64741341e-03],\n",
              "       [2.06576977e-02, 2.71867123e-03, 2.06773728e-03, 6.21227594e-03,\n",
              "        1.18192462e-02, 9.52803433e-01, 3.72100482e-03],\n",
              "       [6.34255707e-02, 3.57959303e-03, 6.43235724e-03, 1.47707947e-02,\n",
              "        3.95316221e-02, 8.65485370e-01, 6.77470118e-03],\n",
              "       [1.09764831e-02, 9.34275566e-04, 7.58466893e-04, 9.35605820e-03,\n",
              "        1.05527984e-02, 9.65631604e-01, 1.79038395e-03],\n",
              "       [3.27062085e-02, 2.26569921e-03, 2.73071160e-03, 1.12105003e-02,\n",
              "        1.90888904e-02, 9.28682387e-01, 3.31563409e-03],\n",
              "       [5.69275357e-02, 2.05050013e-03, 3.68083501e-03, 7.44786765e-03,\n",
              "        1.74686275e-02, 9.08568263e-01, 3.85637302e-03],\n",
              "       [1.05359172e-02, 1.10926514e-03, 8.43543734e-04, 4.88139549e-03,\n",
              "        1.19851790e-02, 9.69084561e-01, 1.56012515e-03],\n",
              "       [5.22714816e-02, 2.70737847e-03, 2.81676021e-03, 5.65742515e-03,\n",
              "        2.71370336e-02, 9.06503737e-01, 2.90620700e-03],\n",
              "       [2.93593612e-02, 3.24910227e-03, 2.45746085e-03, 5.44869993e-03,\n",
              "        1.24438806e-02, 9.43336546e-01, 3.70494113e-03],\n",
              "       [7.97595382e-02, 4.08775359e-03, 5.22733759e-03, 9.03510395e-03,\n",
              "        3.20784301e-02, 8.65094543e-01, 4.71728435e-03],\n",
              "       [8.76933038e-02, 3.26921931e-03, 5.45141008e-03, 8.84907693e-03,\n",
              "        2.49627531e-02, 8.65493596e-01, 4.28064214e-03],\n",
              "       [1.22329503e-01, 1.06434468e-02, 1.62980650e-02, 3.66670154e-02,\n",
              "        4.69082035e-02, 7.52494335e-01, 1.46595025e-02],\n",
              "       [6.99158385e-02, 4.62019956e-03, 7.03978818e-03, 1.53456638e-02,\n",
              "        3.06368973e-02, 8.63648176e-01, 8.79342575e-03],\n",
              "       [3.88690270e-02, 2.62737367e-03, 2.66086543e-03, 8.28825869e-03,\n",
              "        1.64416377e-02, 9.27451730e-01, 3.66111635e-03],\n",
              "       [4.16898392e-02, 3.01752100e-03, 3.29687097e-03, 5.92217827e-03,\n",
              "        2.25699916e-02, 9.19872999e-01, 3.63051868e-03],\n",
              "       [3.10123134e-02, 2.94662314e-03, 2.93024932e-03, 5.61272912e-03,\n",
              "        1.71234086e-02, 9.34892178e-01, 5.48249576e-03],\n",
              "       [2.37969179e-02, 1.40340598e-02, 3.03388946e-02, 5.39248884e-02,\n",
              "        1.94760766e-02, 2.92168688e-02, 8.29212308e-01],\n",
              "       [1.64585989e-02, 1.43318949e-02, 7.56708980e-02, 6.44882843e-02,\n",
              "        1.93121824e-02, 1.22861285e-02, 7.97451973e-01],\n",
              "       [1.87152192e-01, 3.08906198e-01, 5.73790893e-02, 1.74164489e-01,\n",
              "        1.56510964e-01, 6.50296062e-02, 5.08574694e-02],\n",
              "       [1.44818619e-01, 4.90236074e-01, 4.66268323e-02, 6.52954653e-02,\n",
              "        1.26775831e-01, 8.74794051e-02, 3.87677550e-02],\n",
              "       [2.59211799e-03, 1.09465113e-02, 1.33962044e-02, 3.23984772e-02,\n",
              "        4.66769515e-03, 2.11223215e-03, 9.33886766e-01],\n",
              "       [4.62148696e-01, 1.82005987e-01, 4.72196341e-02, 7.28497133e-02,\n",
              "        9.09144133e-02, 1.05043091e-01, 3.98184545e-02],\n",
              "       [5.05370021e-01, 6.53125420e-02, 2.99216304e-02, 6.75519183e-02,\n",
              "        6.83182627e-02, 2.29001641e-01, 3.45239677e-02],\n",
              "       [6.14644848e-02, 5.35723567e-01, 3.02205700e-02, 1.15199275e-01,\n",
              "        3.87455039e-02, 1.33015528e-01, 8.56311768e-02]], dtype=float32)"
            ]
          },
          "execution_count": 38,
          "metadata": {},
          "output_type": "execute_result"
        }
      ],
      "source": [
        "yhat"
      ]
    },
    {
      "cell_type": "code",
      "execution_count": null,
      "metadata": {
        "id": "BwPNlTJl0XQM"
      },
      "outputs": [],
      "source": [
        "yhat = cnn_model.predict(testX , batch_size = 32)"
      ]
    },
    {
      "cell_type": "code",
      "execution_count": null,
      "metadata": {
        "colab": {
          "base_uri": "https://localhost:8080/"
        },
        "id": "00OgRVqo0he8",
        "outputId": "41da6b8d-4ddc-4dba-d1eb-bcb617d2e184"
      },
      "outputs": [
        {
          "data": {
            "text/plain": [
              "2"
            ]
          },
          "execution_count": 42,
          "metadata": {},
          "output_type": "execute_result"
        }
      ],
      "source": [
        "np.argmax(yhat[0])"
      ]
    },
    {
      "cell_type": "code",
      "execution_count": null,
      "metadata": {
        "colab": {
          "base_uri": "https://localhost:8080/",
          "height": 200
        },
        "id": "TbWMWrac2psU",
        "outputId": "8b6e0989-4680-45ce-f734-cd1fb7694bc2"
      },
      "outputs": [
        {
          "ename": "NameError",
          "evalue": "ignored",
          "output_type": "error",
          "traceback": [
            "\u001b[0;31m---------------------------------------------------------------------------\u001b[0m",
            "\u001b[0;31mNameError\u001b[0m                                 Traceback (most recent call last)",
            "\u001b[0;32m<ipython-input-1-896a33ccea76>\u001b[0m in \u001b[0;36m<module>\u001b[0;34m()\u001b[0m\n\u001b[0;32m----> 1\u001b[0;31m \u001b[0;32mfor\u001b[0m \u001b[0mpred\u001b[0m \u001b[0;32min\u001b[0m \u001b[0mzip\u001b[0m\u001b[0;34m(\u001b[0m\u001b[0myhat\u001b[0m\u001b[0;34m)\u001b[0m\u001b[0;34m:\u001b[0m\u001b[0;34m\u001b[0m\u001b[0;34m\u001b[0m\u001b[0m\n\u001b[0m\u001b[1;32m      2\u001b[0m   \u001b[0mprint\u001b[0m\u001b[0;34m(\u001b[0m\u001b[0mnp\u001b[0m\u001b[0;34m.\u001b[0m\u001b[0margmax\u001b[0m\u001b[0;34m(\u001b[0m\u001b[0mpred\u001b[0m\u001b[0;34m)\u001b[0m\u001b[0;34m)\u001b[0m \u001b[0;34m,\u001b[0m \u001b[0mprint\u001b[0m\u001b[0;34m(\u001b[0m\u001b[0mpred\u001b[0m\u001b[0;34m[\u001b[0m\u001b[0mnp\u001b[0m\u001b[0;34m.\u001b[0m\u001b[0margmax\u001b[0m\u001b[0;34m(\u001b[0m\u001b[0mpred\u001b[0m\u001b[0;34m)\u001b[0m\u001b[0;34m]\u001b[0m\u001b[0;34m)\u001b[0m\u001b[0;34m\u001b[0m\u001b[0;34m\u001b[0m\u001b[0m\n\u001b[1;32m      3\u001b[0m \u001b[0;34m\u001b[0m\u001b[0m\n",
            "\u001b[0;31mNameError\u001b[0m: name 'yhat' is not defined"
          ]
        }
      ],
      "source": [
        "for pred in zip(yhat):\n",
        "  print(np.argmax(pred)) , print(pred[np.argmax(pred)])\n",
        "  "
      ]
    },
    {
      "cell_type": "code",
      "execution_count": null,
      "metadata": {
        "id": "Eaqb8ggl8jh3"
      },
      "outputs": [],
      "source": [
        ""
      ]
    }
  ],
  "metadata": {
    "accelerator": "GPU",
    "colab": {
      "collapsed_sections": [],
      "name": "Face Recognition.ipynb",
      "provenance": []
    },
    "gpuClass": "standard",
    "kernelspec": {
      "display_name": "Python 3",
      "name": "python3"
    },
    "language_info": {
      "name": "python"
    }
  },
  "nbformat": 4,
  "nbformat_minor": 0
}